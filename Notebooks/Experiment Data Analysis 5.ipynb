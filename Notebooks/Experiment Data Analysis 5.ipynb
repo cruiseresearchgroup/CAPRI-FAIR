{
 "cells": [
  {
   "cell_type": "markdown",
   "id": "b7f005b5-8be3-41dc-ba7b-f2b838c2fc5d",
   "metadata": {},
   "source": [
    "# EDA 5: Statistical testing\n",
    "\n",
    "Recalculation is needed for get the individual samples"
   ]
  },
  {
   "cell_type": "code",
   "execution_count": 8,
   "id": "2caa6a86-1481-46bf-bc3e-1093da9fd072",
   "metadata": {},
   "outputs": [],
   "source": [
    "from itertools import product\n",
    "\n",
    "import pandas as pd\n",
    "import numpy as np\n",
    "import matplotlib.pyplot as plt\n",
    "import seaborn as sns\n",
    "from tqdm import tqdm"
   ]
  },
  {
   "cell_type": "code",
   "execution_count": 10,
   "id": "52264c8b-a1f8-47b1-afe8-f6158d75a904",
   "metadata": {},
   "outputs": [],
   "source": [
    "METRIC_NAME_MAP = {\n",
    "    'precision': 'Precision@10',\n",
    "    'recall': 'Recall@10',\n",
    "    'ndcg': 'NDCG@10',\n",
    "    'map': 'mAP',\n",
    "    'mean_median_distance': 'Median distance',\n",
    "    'gce_users': 'GCE for user fairness',\n",
    "    'precision_active_users': 'Precision@10 (active users)',\n",
    "    'precision_inactive_users': 'Precision@10 (inactive users)',\n",
    "    'gce_items': 'GCE for item fairness',\n",
    "    'exposure_short_head': 'Exposure count (short-head POIs)',\n",
    "    'exposure_long_tail': 'Exposure count (long-tail POIs)',\n",
    "}\n",
    "\n",
    "dataset_sizes = {\n",
    "    'Yelp': 7135,\n",
    "    'Gowalla': 5628\n",
    "}"
   ]
  },
  {
   "cell_type": "markdown",
   "id": "985e9c1a-44f8-49fa-acf8-d9ac0bd03b3a",
   "metadata": {},
   "source": [
    "## 1. Loading the data"
   ]
  },
  {
   "cell_type": "code",
   "execution_count": 42,
   "id": "3922539c-d188-4c77-898d-6addc0f4533b",
   "metadata": {},
   "outputs": [],
   "source": [
    "def get_reclist_filename(experiment, model_name, dataset, exposure_model='Linear', provider_factor=0, consumer_factor=0, printfn=False):\n",
    "    fairness = 'None'\n",
    "    filename = f\"../Outputs/{exposure_model}Fairness/Rec_{model_name}_TopK_{fairness}_{dataset}_Sum_{dataset_sizes[dataset]}user_top10_limit15.txt\"\n",
    "\n",
    "    # loading exposure model\n",
    "    if experiment == 'exposure_model':\n",
    "        if provider_factor in [0.25, 0.75]:\n",
    "            fairness = f'Provider_{exposure_model}Exposure_alpha' + str(provider_factor)\n",
    "            filename = f\"../Outputs/1_ExposureModelComparison/Rec_{model_name}_TopK_{fairness}_{dataset}_Sum_{dataset_sizes[dataset]}user_top10_limit30.txt\"\n",
    "        elif provider_factor in [0.5, 1.0]:\n",
    "            fairness = 'Provider' + str(provider_factor)\n",
    "            filename = f\"../Outputs/{exposure_model}Fairness/Rec_{model_name}_TopK_{fairness}_{dataset}_Sum_{dataset_sizes[dataset]}user_top10_limit15.txt\"\n",
    "    elif experiment == 'provider':\n",
    "        if provider_factor > 0:\n",
    "            fairness = 'Provider' + str(provider_factor)\n",
    "            filename = f\"../Outputs/LinearFairness/Rec_{model_name}_TopK_{fairness}_{dataset}_Sum_{dataset_sizes[dataset]}user_top10_limit15.txt\"\n",
    "    elif experiment == 'consumer':\n",
    "        if consumer_factor > 0:\n",
    "            fairness = 'Consumer_beta' + str(consumer_factor)\n",
    "            filename = f\"../Outputs/3_ConsumerBeta/Rec_{model_name}_TopK_{fairness}_{dataset}_Sum_{dataset_sizes[dataset]}user_top10_limit30.txt\"\n",
    "    elif experiment == 'both':\n",
    "        if consumer_factor == 0:\n",
    "            fairness = 'Provider1.0'\n",
    "            filename = f\"../Outputs/LinearFairness/Rec_{model_name}_TopK_{fairness}_{dataset}_Sum_{dataset_sizes[dataset]}user_top10_limit15.txt\"\n",
    "        elif consumer_factor == 1.0:\n",
    "            fairness = 'Consumer_beta' + str(consumer_factor)\n",
    "            filename = f\"../Outputs/3_ConsumerBeta/Rec_{model_name}_TopK_{fairness}_{dataset}_Sum_{dataset_sizes[dataset]}user_top10_limit30.txt\"\n",
    "        else:\n",
    "            fairness = f'Both_LinearExposure_alpha{provider_factor}_beta{consumer_factor}'\n",
    "            filename = f\"../Outputs/4_Tradeoff/Rec_{model_name}_TopK_{fairness}_{dataset}_Sum_{dataset_sizes[dataset]}user_top10_limit30.txt\"\n",
    "\n",
    "    if printfn:\n",
    "        print(f\"Loading {filename}...\")\n",
    "    return filename\n",
    "\n",
    "def load_reclists(experiment, model_name, dataset, exposure_model='Linear', provider_factor=0, consumer_factor=0):\n",
    "    filename = get_reclist_filename(experiment, model_name, dataset, exposure_model, provider_factor, consumer_factor)\n",
    "    reclists = {}\n",
    "    reclist_data = open(filename, 'r').readlines()\n",
    "    for line in reclist_data:\n",
    "        _, user_id, reclist = line.strip().split('\\t')\n",
    "        reclist = list(int(x) for x in reclist.split(','))\n",
    "        reclists[int(user_id)] = reclist\n",
    "\n",
    "    return reclists"
   ]
  },
  {
   "cell_type": "code",
   "execution_count": 157,
   "id": "751a77db-bf5c-484e-992a-0b3a7aa7d2f5",
   "metadata": {},
   "outputs": [
    {
     "name": "stdout",
     "output_type": "stream",
     "text": [
      "Loading Gowalla dataset files ...\n",
      "Gowalla dataset files have been loaded for processing!\n",
      "Reading the 'dataSize' file to prepare further processing...\n",
      "Gowalla dataset contains 5628 users, 31803 locations, and 0 categories!\n",
      "Reading training data...\n",
      "Setting threshold to median repeating POI ratio of 0.3\n",
      "Setting threshold to 80th prc. of POI visits of 18.0\n",
      "Reading test data...\n"
     ]
    }
   ],
   "source": [
    "from Data.loadDatasetFiles import loadDatasetFiles\n",
    "from Data.readDataSizes import readDataSizes\n",
    "from Models.utils import readTrainingData, readTestData\n",
    "\n",
    "datasetName = 'Gowalla'\n",
    "\n",
    "datasetFiles = loadDatasetFiles(datasetName)\n",
    "dataDictionary = readDataSizes(datasetName, datasetFiles)\n",
    "users, pois = dataDictionary['users'], dataDictionary['pois']\n",
    "trainingMatrix, userCheckinCounts, poiCheckinCounts = readTrainingData(datasetFiles['train'], users['count'], pois['count'], False)\n",
    "groundTruth = readTestData(datasetFiles['test'])"
   ]
  },
  {
   "cell_type": "code",
   "execution_count": 158,
   "id": "652ee7de-1c0a-4766-9dd8-ca607e8682d6",
   "metadata": {},
   "outputs": [],
   "source": [
    "longtailPois = set(poiCheckinCounts[~poiCheckinCounts.short_head].index)"
   ]
  },
  {
   "cell_type": "code",
   "execution_count": 159,
   "id": "e1608cbf-5654-467e-86bd-54ccd2a2cad1",
   "metadata": {},
   "outputs": [
    {
     "data": {
      "text/plain": [
       "{39, 2625, 3400, 6776, 8379, 9242, 11788, 13382}"
      ]
     },
     "execution_count": 159,
     "metadata": {},
     "output_type": "execute_result"
    }
   ],
   "source": [
    "groundTruth[3535]"
   ]
  },
  {
   "cell_type": "markdown",
   "id": "de1af1e4-2128-4c50-a264-48e3bf8397c2",
   "metadata": {},
   "source": [
    "## 2. Generating the metric samples"
   ]
  },
  {
   "cell_type": "code",
   "execution_count": 160,
   "id": "a762ba79-2033-44d1-b576-4f5f2690216a",
   "metadata": {},
   "outputs": [],
   "source": [
    "from Evaluations.metrics.accuracy import precisionk\n",
    "from Evaluations.metrics.fairness import exposureMetricByItemGroup\n",
    "from collections import Counter\n",
    "\n",
    "# per-user\n",
    "\n",
    "def precisionk_samples(reclists):\n",
    "    return np.array([precisionk(groundTruth[uid], reclists[uid] if uid in reclists else []) for uid in range(users['count'])])\n",
    "\n",
    "# per-poi\n",
    "\n",
    "def longtail_exposure_samples(reclists):\n",
    "    # generate exposure map\n",
    "    exposure_map = Counter([r for uid, reclist in reclists.items() for r in reclist])\n",
    "    return np.array([exposure_map[p] if p in exposure_map else 0 for p in range(pois['count']) if p in longtailPois])"
   ]
  },
  {
   "cell_type": "code",
   "execution_count": 161,
   "id": "92127ab0-a4c5-49ee-afae-1eeb13a0ba35",
   "metadata": {},
   "outputs": [
    {
     "data": {
      "text/plain": [
       "[17159, 27287, 14937, 15137, 17149, 14900, 1890, 456, 11743, 1609]"
      ]
     },
     "execution_count": 161,
     "metadata": {},
     "output_type": "execute_result"
    }
   ],
   "source": [
    "_tmp = load_reclists('exposure_model', 'LORE', datasetName, exposure_model='PowerLaw', provider_factor=0.25)\n",
    "# _tmp = load_reclists('provider', 'USG', 'Gowalla', provider_factor=0.8)\n",
    "# _tmp = load_reclists('consumer', 'GeoSoCa', 'Yelp', consumer_factor=0.6)\n",
    "# _tmp = load_reclists('both', 'LORE', 'Yelp', consumer_factor=0.25, provider_factor=0.25)\n",
    "_tmp[3535]"
   ]
  },
  {
   "cell_type": "code",
   "execution_count": 162,
   "id": "75878993-0f60-42a3-9e06-dc5bf71370c2",
   "metadata": {},
   "outputs": [
    {
     "data": {
      "text/plain": [
       "(5628,)"
      ]
     },
     "execution_count": 162,
     "metadata": {},
     "output_type": "execute_result"
    }
   ],
   "source": [
    "precisionk_samples(_tmp).shape"
   ]
  },
  {
   "cell_type": "code",
   "execution_count": 163,
   "id": "8d57e092-de82-45cd-b149-ac1dae6f537c",
   "metadata": {},
   "outputs": [
    {
     "data": {
      "text/plain": [
       "(24700,)"
      ]
     },
     "execution_count": 163,
     "metadata": {},
     "output_type": "execute_result"
    }
   ],
   "source": [
    "longtail_exposure_samples(_tmp).shape"
   ]
  },
  {
   "cell_type": "markdown",
   "id": "3b9a0fce-84df-4ffd-83ea-da8a776830f5",
   "metadata": {},
   "source": [
    "## 4. Does Exposure model have an impact?"
   ]
  },
  {
   "cell_type": "code",
   "execution_count": 120,
   "id": "d7bb5575-4e20-4962-82ea-e68b910da3fa",
   "metadata": {},
   "outputs": [],
   "source": [
    "from scipy.stats import kruskal\n",
    "\n",
    "def is_significant(pvalue):\n",
    "    if pvalue < 0.05:\n",
    "        return \"p < 0.05, reject the null hypothesis\"\n",
    "    else:\n",
    "        return \"p >= 0.05, don\\'t reject the null hypothesis\"\n",
    "\n",
    "def test_exposure_models(model, dataset, provider_factor):\n",
    "    linear_em = load_reclists('exposure_model', model, dataset, exposure_model='Linear', provider_factor=provider_factor)\n",
    "    powerlaw_em = load_reclists('exposure_model', model, dataset, exposure_model='PowerLaw', provider_factor=provider_factor)\n",
    "    logistic_em = load_reclists('exposure_model', model, dataset, exposure_model='Logistic', provider_factor=provider_factor)\n",
    "\n",
    "    linear_prec = precisionk_samples(linear_em)\n",
    "    powerlaw_prec = precisionk_samples(powerlaw_em)\n",
    "    logistic_prec = precisionk_samples(logistic_em)\n",
    "    \n",
    "    linear_longtail = longtail_exposure_samples(linear_em)\n",
    "    powerlaw_longtail = longtail_exposure_samples(powerlaw_em)\n",
    "    logistic_longtail = longtail_exposure_samples(logistic_em)\n",
    "\n",
    "    prec_test = kruskal(linear_prec, powerlaw_prec, logistic_prec)\n",
    "    longtail_test = kruskal(linear_longtail, powerlaw_longtail, logistic_longtail)\n",
    "\n",
    "    print(f\"Avg. precision@k: {linear_prec.mean():.4f} vs {logistic_prec.mean():.4f} vs {powerlaw_prec.mean():.4f}\")\n",
    "    print(f\"Precision: H={prec_test.statistic:.3f}, p={prec_test.pvalue:.3f}\")\n",
    "    print(is_significant(prec_test.pvalue))\n",
    "    print(\"\")\n",
    "    print(f\"Avg. longtail exposure: {linear_longtail.mean():.4f} vs {logistic_longtail.mean():.4f} vs {powerlaw_longtail.mean():.4f}\")\n",
    "    print(f\"Long-tail exposure: H={longtail_test.statistic:.3f}, p={longtail_test.pvalue:.3f}\")\n",
    "    print(is_significant(longtail_test.pvalue))"
   ]
  },
  {
   "cell_type": "markdown",
   "id": "7a8fef8f-cdc6-4f8f-b29f-16218561a989",
   "metadata": {},
   "source": [
    "### Yelp"
   ]
  },
  {
   "cell_type": "markdown",
   "id": "afda5333-3889-457f-8d3a-3f1d91efae24",
   "metadata": {},
   "source": [
    "**provider factor weight = 0.25**"
   ]
  },
  {
   "cell_type": "code",
   "execution_count": 121,
   "id": "4b2e9ba3-f718-446d-8fc3-9cb76cba0210",
   "metadata": {},
   "outputs": [
    {
     "name": "stdout",
     "output_type": "stream",
     "text": [
      "Avg. precision@k: 0.0134 vs 0.0173 vs 0.0137\n",
      "Precision: H=30.337, p=0.000\n",
      "p < 0.05, reject the null hypothesis\n",
      "\n",
      "Avg. longtail exposure: 3.4467 vs 3.0696 vs 3.1636\n",
      "Long-tail exposure: H=786.792, p=0.000\n",
      "p < 0.05, reject the null hypothesis\n"
     ]
    }
   ],
   "source": [
    "test_exposure_models('GeoSoCa', 'Yelp', 0.25)"
   ]
  },
  {
   "cell_type": "code",
   "execution_count": 122,
   "id": "03311855-be48-49f4-acc5-3e18026d3702",
   "metadata": {},
   "outputs": [
    {
     "name": "stdout",
     "output_type": "stream",
     "text": [
      "Avg. precision@k: 0.0179 vs 0.0183 vs 0.0196\n",
      "Precision: H=4.798, p=0.091\n",
      "p >= 0.05, don't reject the null hypothesis\n",
      "\n",
      "Avg. longtail exposure: 2.7975 vs 3.4217 vs 2.2284\n",
      "Long-tail exposure: H=1185.228, p=0.000\n",
      "p < 0.05, reject the null hypothesis\n"
     ]
    }
   ],
   "source": [
    "test_exposure_models('LORE', 'Yelp', 0.25)"
   ]
  },
  {
   "cell_type": "code",
   "execution_count": 123,
   "id": "fbd34361-cce4-4628-a173-39c55fe933d5",
   "metadata": {},
   "outputs": [
    {
     "name": "stdout",
     "output_type": "stream",
     "text": [
      "Avg. precision@k: 0.0314 vs 0.0296 vs 0.0300\n",
      "Precision: H=2.242, p=0.326\n",
      "p >= 0.05, don't reject the null hypothesis\n",
      "\n",
      "Avg. longtail exposure: 0.0341 vs 0.0461 vs 0.0209\n",
      "Long-tail exposure: H=47.392, p=0.000\n",
      "p < 0.05, reject the null hypothesis\n"
     ]
    }
   ],
   "source": [
    "test_exposure_models('USG', 'Yelp', 0.25)"
   ]
  },
  {
   "cell_type": "markdown",
   "id": "022f7798-5114-4d4a-8792-4242bced15ff",
   "metadata": {},
   "source": [
    "**provider factor weight = 0.5**"
   ]
  },
  {
   "cell_type": "code",
   "execution_count": 124,
   "id": "102027c3-b3c9-47c4-8702-93c7656b85ba",
   "metadata": {},
   "outputs": [
    {
     "name": "stdout",
     "output_type": "stream",
     "text": [
      "Avg. precision@k: 0.0117 vs 0.0089 vs 0.0109\n",
      "Precision: H=26.840, p=0.000\n",
      "p < 0.05, reject the null hypothesis\n",
      "\n",
      "Avg. longtail exposure: 4.1525 vs 4.5693 vs 3.5278\n",
      "Long-tail exposure: H=2607.133, p=0.000\n",
      "p < 0.05, reject the null hypothesis\n"
     ]
    }
   ],
   "source": [
    "test_exposure_models('GeoSoCa', 'Yelp', 0.5)"
   ]
  },
  {
   "cell_type": "code",
   "execution_count": 125,
   "id": "f9ee364f-0d42-49cd-9355-2a546b55c7d4",
   "metadata": {},
   "outputs": [
    {
     "name": "stdout",
     "output_type": "stream",
     "text": [
      "Avg. precision@k: 0.0147 vs 0.0096 vs 0.0136\n",
      "Precision: H=69.317, p=0.000\n",
      "p < 0.05, reject the null hypothesis\n",
      "\n",
      "Avg. longtail exposure: 3.6141 vs 4.8180 vs 2.1647\n",
      "Long-tail exposure: H=4504.831, p=0.000\n",
      "p < 0.05, reject the null hypothesis\n"
     ]
    }
   ],
   "source": [
    "test_exposure_models('LORE', 'Yelp', 0.5)"
   ]
  },
  {
   "cell_type": "code",
   "execution_count": 126,
   "id": "09e14846-47d6-4872-bfde-0d95137467a7",
   "metadata": {},
   "outputs": [
    {
     "name": "stdout",
     "output_type": "stream",
     "text": [
      "Avg. precision@k: 0.0278 vs 0.0257 vs 0.0291\n",
      "Precision: H=11.141, p=0.004\n",
      "p < 0.05, reject the null hypothesis\n",
      "\n",
      "Avg. longtail exposure: 0.5424 vs 1.1532 vs 0.2791\n",
      "Long-tail exposure: H=1405.522, p=0.000\n",
      "p < 0.05, reject the null hypothesis\n"
     ]
    }
   ],
   "source": [
    "test_exposure_models('USG', 'Yelp', 0.5)"
   ]
  },
  {
   "cell_type": "markdown",
   "id": "377eb8e7-bc06-453a-a199-2013be989162",
   "metadata": {},
   "source": [
    "### Gowalla"
   ]
  },
  {
   "cell_type": "markdown",
   "id": "eb33227d-658b-4ade-a5bf-28d700e3093a",
   "metadata": {},
   "source": [
    "**provider factor weight = 0.25**"
   ]
  },
  {
   "cell_type": "code",
   "execution_count": 76,
   "id": "a12c5f11-7b32-44c5-94d0-d08d7bb57bee",
   "metadata": {},
   "outputs": [
    {
     "name": "stdout",
     "output_type": "stream",
     "text": [
      "Avg. precision@k: 0.0300 vs 0.0316 vs 0.0276\n",
      "Precision: H=20.016, p=0.000\n",
      "p < 0.05, reject the null hypothesis\n",
      "\n",
      "Avg. longtail exposure: 1.7696 vs 1.7696 vs 1.7696\n",
      "Long-tail exposure: H=1016.396, p=0.000\n",
      "p < 0.05, reject the null hypothesis\n"
     ]
    }
   ],
   "source": [
    "test_exposure_models('GeoSoCa', 'Gowalla', 0.25)"
   ]
  },
  {
   "cell_type": "code",
   "execution_count": 77,
   "id": "e799b8db-7900-4fc8-a29f-db50358758a8",
   "metadata": {},
   "outputs": [
    {
     "name": "stdout",
     "output_type": "stream",
     "text": [
      "Avg. precision@k: 0.0427 vs 0.0283 vs 0.0392\n",
      "Precision: H=112.076, p=0.000\n",
      "p < 0.05, reject the null hypothesis\n",
      "\n",
      "Avg. longtail exposure: 1.7696 vs 1.7696 vs 1.7696\n",
      "Long-tail exposure: H=5297.219, p=0.000\n",
      "p < 0.05, reject the null hypothesis\n"
     ]
    }
   ],
   "source": [
    "test_exposure_models('LORE', 'Gowalla', 0.25)"
   ]
  },
  {
   "cell_type": "code",
   "execution_count": 78,
   "id": "7445fda5-79eb-481c-940c-e6e85e7e359c",
   "metadata": {},
   "outputs": [
    {
     "name": "stdout",
     "output_type": "stream",
     "text": [
      "Avg. precision@k: 0.0504 vs 0.0500 vs 0.0525\n",
      "Precision: H=4.364, p=0.113\n",
      "p >= 0.05, don't reject the null hypothesis\n",
      "\n",
      "Avg. longtail exposure: 1.7696 vs 1.7696 vs 1.7696\n",
      "Long-tail exposure: H=54.929, p=0.000\n",
      "p < 0.05, reject the null hypothesis\n"
     ]
    }
   ],
   "source": [
    "test_exposure_models('USG', 'Gowalla', 0.25)"
   ]
  },
  {
   "cell_type": "markdown",
   "id": "84681aea-f6a0-41c5-b7c8-941c5d97d89a",
   "metadata": {},
   "source": [
    "**provider factor weight = 0.5**"
   ]
  },
  {
   "cell_type": "code",
   "execution_count": 79,
   "id": "6e367a8a-b02b-4a2f-a7de-a669d00a53eb",
   "metadata": {},
   "outputs": [
    {
     "name": "stdout",
     "output_type": "stream",
     "text": [
      "Avg. precision@k: 0.0287 vs 0.0182 vs 0.0242\n",
      "Precision: H=80.919, p=0.000\n",
      "p < 0.05, reject the null hypothesis\n",
      "\n",
      "Avg. longtail exposure: 1.7696 vs 1.7696 vs 1.7696\n",
      "Long-tail exposure: H=8742.328, p=0.000\n",
      "p < 0.05, reject the null hypothesis\n"
     ]
    }
   ],
   "source": [
    "test_exposure_models('GeoSoCa', 'Gowalla', 0.5)"
   ]
  },
  {
   "cell_type": "code",
   "execution_count": 80,
   "id": "ebefa9eb-ed0e-4099-b91e-b320d3b49869",
   "metadata": {},
   "outputs": [
    {
     "name": "stdout",
     "output_type": "stream",
     "text": [
      "Avg. precision@k: 0.0405 vs 0.0149 vs 0.0260\n",
      "Precision: H=489.789, p=0.000\n",
      "p < 0.05, reject the null hypothesis\n",
      "\n",
      "Avg. longtail exposure: 1.7696 vs 1.7696 vs 1.7696\n",
      "Long-tail exposure: H=13453.235, p=0.000\n",
      "p < 0.05, reject the null hypothesis\n"
     ]
    }
   ],
   "source": [
    "test_exposure_models('LORE', 'Gowalla', 0.5)"
   ]
  },
  {
   "cell_type": "code",
   "execution_count": 81,
   "id": "b25018fb-bd57-47f7-9a9f-2f5ac2f02f76",
   "metadata": {},
   "outputs": [
    {
     "name": "stdout",
     "output_type": "stream",
     "text": [
      "Avg. precision@k: 0.0477 vs 0.0334 vs 0.0468\n",
      "Precision: H=89.044, p=0.000\n",
      "p < 0.05, reject the null hypothesis\n",
      "\n",
      "Avg. longtail exposure: 1.7696 vs 1.7696 vs 1.7696\n",
      "Long-tail exposure: H=694.806, p=0.000\n",
      "p < 0.05, reject the null hypothesis\n"
     ]
    }
   ],
   "source": [
    "test_exposure_models('USG', 'Gowalla', 0.5)"
   ]
  },
  {
   "cell_type": "markdown",
   "id": "58eef313-0b2e-47d1-8c4e-f793c430223a",
   "metadata": {},
   "source": [
    "## 5. Does provider factor have a significant increase in long-tail exposure, without a significant decrease in precision?"
   ]
  },
  {
   "cell_type": "code",
   "execution_count": 90,
   "id": "f844fb36-a212-4755-b6f1-d322d8ef4c09",
   "metadata": {},
   "outputs": [
    {
     "data": {
      "text/plain": [
       "<Axes: ylabel='Count'>"
      ]
     },
     "execution_count": 90,
     "metadata": {},
     "output_type": "execute_result"
    },
    {
     "data": {
      "image/png": "[encoded data removed]",
      "text/plain": [
       "<Figure size 640x480 with 1 Axes>"
      ]
     },
     "metadata": {},
     "output_type": "display_data"
    }
   ],
   "source": [
    "sns.histplot(precisionk_samples(_tmp), log_scale=True)"
   ]
  },
  {
   "cell_type": "code",
   "execution_count": 92,
   "id": "dbb89076-6735-42da-a5ce-6abcaf34f039",
   "metadata": {},
   "outputs": [
    {
     "data": {
      "text/plain": [
       "<Axes: ylabel='Count'>"
      ]
     },
     "execution_count": 92,
     "metadata": {},
     "output_type": "execute_result"
    },
    {
     "data": {
      "image/png": "[encoded data removed]",
      "text/plain": [
       "<Figure size 640x480 with 1 Axes>"
      ]
     },
     "metadata": {},
     "output_type": "display_data"
    }
   ],
   "source": [
    "sns.histplot(longtail_exposure_samples(_tmp), log_scale=True)"
   ]
  },
  {
   "cell_type": "markdown",
   "id": "65cbde65-07e1-4e39-ae80-d01c9d6f83d0",
   "metadata": {},
   "source": [
    "not lognormal..."
   ]
  },
  {
   "cell_type": "code",
   "execution_count": 127,
   "id": "a91cb562-b0b0-4459-84a4-804d9a21d1c9",
   "metadata": {},
   "outputs": [],
   "source": [
    "from scipy.stats import wilcoxon\n",
    "\n",
    "def test_provider_factor(model, dataset, provider_factor):\n",
    "    before_pf = load_reclists('provider', model, dataset, exposure_model='Linear', provider_factor=0)\n",
    "    after_pf = load_reclists('provider', model, dataset, exposure_model='Linear', provider_factor=provider_factor)\n",
    "\n",
    "    before_prec = precisionk_samples(before_pf)\n",
    "    after_prec = precisionk_samples(after_pf)\n",
    "    before_longtail = longtail_exposure_samples(before_pf)\n",
    "    after_longtail = longtail_exposure_samples(after_pf)\n",
    "\n",
    "    prec_test = wilcoxon(before_prec, after_prec)\n",
    "    longtail_test = wilcoxon(before_longtail, after_longtail)\n",
    "\n",
    "    print(f\"Avg. precision@k: {before_prec.mean():.4f} vs {after_prec.mean():.4f}\")\n",
    "    print(f\"Precision: H={prec_test.statistic:.3f}, p={prec_test.pvalue:.3f}\")\n",
    "    print(is_significant(prec_test.pvalue))\n",
    "    print(\"\")\n",
    "    print(f\"Avg. longtail exposure: {before_longtail.mean():.4f} vs {after_longtail.mean():.4f}\")\n",
    "    print(f\"Long-tail exposure: H={longtail_test.statistic:.3f}, p={longtail_test.pvalue:.3f}\")\n",
    "    print(is_significant(longtail_test.pvalue))"
   ]
  },
  {
   "cell_type": "markdown",
   "id": "cc82279b-f464-47fa-a93c-711dc414de95",
   "metadata": {},
   "source": [
    "### Yelp"
   ]
  },
  {
   "cell_type": "markdown",
   "id": "7b5a8409-9041-46e0-b528-525ae32aad35",
   "metadata": {},
   "source": [
    "**provider factor weight = 0.1**\n",
    "\n",
    "ideally no impact"
   ]
  },
  {
   "cell_type": "code",
   "execution_count": 128,
   "id": "084c92ba-e16e-4771-98d5-d9ca06e6d3b8",
   "metadata": {},
   "outputs": [
    {
     "name": "stdout",
     "output_type": "stream",
     "text": [
      "Avg. precision@k: 0.0225 vs 0.0168\n",
      "Precision: H=51192.500, p=0.000\n",
      "p < 0.05, reject the null hypothesis\n",
      "\n",
      "Avg. longtail exposure: 1.7010 vs 2.6597\n",
      "Long-tail exposure: H=436717.000, p=0.000\n",
      "p < 0.05, reject the null hypothesis\n"
     ]
    }
   ],
   "source": [
    "test_provider_factor('GeoSoCa', 'Yelp', 0.1)"
   ]
  },
  {
   "cell_type": "code",
   "execution_count": 129,
   "id": "53235c52-9ef9-4f00-827e-477fa60e9ea4",
   "metadata": {},
   "outputs": [
    {
     "name": "stdout",
     "output_type": "stream",
     "text": [
      "Avg. precision@k: 0.0230 vs 0.0208\n",
      "Precision: H=30149.000, p=0.000\n",
      "p < 0.05, reject the null hypothesis\n",
      "\n",
      "Avg. longtail exposure: 1.5290 vs 2.1453\n",
      "Long-tail exposure: H=332956.000, p=0.000\n",
      "p < 0.05, reject the null hypothesis\n"
     ]
    }
   ],
   "source": [
    "test_provider_factor('LORE', 'Yelp', 0.1)"
   ]
  },
  {
   "cell_type": "code",
   "execution_count": 130,
   "id": "4af825ef-7551-4c70-a45d-712d9acd6a5d",
   "metadata": {},
   "outputs": [
    {
     "name": "stdout",
     "output_type": "stream",
     "text": [
      "Avg. precision@k: 0.0297 vs 0.0304\n",
      "Precision: H=14508.500, p=0.006\n",
      "p < 0.05, reject the null hypothesis\n",
      "\n",
      "Avg. longtail exposure: 0.0077 vs 0.0116\n",
      "Long-tail exposure: H=0.000, p=0.000\n",
      "p < 0.05, reject the null hypothesis\n"
     ]
    }
   ],
   "source": [
    "test_provider_factor('USG', 'Yelp', 0.1)"
   ]
  },
  {
   "cell_type": "markdown",
   "id": "2f643ad8-3ab8-41aa-8252-406ffcb14146",
   "metadata": {},
   "source": [
    "### Gowalla"
   ]
  },
  {
   "cell_type": "markdown",
   "id": "572ddcaa-1a11-4368-b520-e5b19a757991",
   "metadata": {},
   "source": [
    "**provider factor weight = 0.1**\n",
    "\n",
    "ideally no impact"
   ]
  },
  {
   "cell_type": "code",
   "execution_count": 138,
   "id": "0684de96-03e0-4ac9-8898-cf0e0625af92",
   "metadata": {},
   "outputs": [
    {
     "name": "stdout",
     "output_type": "stream",
     "text": [
      "Avg. precision@k: 0.0381 vs 0.0321\n",
      "Precision: H=34104.000, p=0.000\n",
      "p < 0.05, reject the null hypothesis\n",
      "\n",
      "Avg. longtail exposure: 0.7990 vs 0.9167\n",
      "Long-tail exposure: H=8188097.000, p=0.000\n",
      "p < 0.05, reject the null hypothesis\n"
     ]
    }
   ],
   "source": [
    "test_provider_factor('GeoSoCa', 'Gowalla', 0.1)"
   ]
  },
  {
   "cell_type": "code",
   "execution_count": 139,
   "id": "bc46b4c9-7b9c-40e3-ba6e-776312a5fcbe",
   "metadata": {},
   "outputs": [
    {
     "name": "stdout",
     "output_type": "stream",
     "text": [
      "Avg. precision@k: 0.0482 vs 0.0451\n",
      "Precision: H=21580.000, p=0.000\n",
      "p < 0.05, reject the null hypothesis\n",
      "\n",
      "Avg. longtail exposure: 0.7354 vs 0.8338\n",
      "Long-tail exposure: H=137338.500, p=0.000\n",
      "p < 0.05, reject the null hypothesis\n"
     ]
    }
   ],
   "source": [
    "test_provider_factor('LORE', 'Gowalla', 0.1)"
   ]
  },
  {
   "cell_type": "code",
   "execution_count": 140,
   "id": "33e047d5-fb2c-4f7b-9392-15ab93dadfd9",
   "metadata": {},
   "outputs": [
    {
     "name": "stdout",
     "output_type": "stream",
     "text": [
      "Avg. precision@k: 0.0514 vs 0.0522\n",
      "Precision: H=36895.000, p=0.114\n",
      "p >= 0.05, don't reject the null hypothesis\n",
      "\n",
      "Avg. longtail exposure: 0.0766 vs 0.0864\n",
      "Long-tail exposure: H=8003.000, p=0.000\n",
      "p < 0.05, reject the null hypothesis\n"
     ]
    }
   ],
   "source": [
    "test_provider_factor('USG', 'Gowalla', 0.1)"
   ]
  },
  {
   "cell_type": "markdown",
   "id": "9de0659e-5e77-43e4-a9f9-af66203e2cbb",
   "metadata": {},
   "source": [
    "oh well"
   ]
  },
  {
   "cell_type": "markdown",
   "id": "b247e19b-3b1f-4ddc-8900-f5b8ed3dd3a0",
   "metadata": {},
   "source": [
    "## 6. Does consumer factor have a significant increase in precision?"
   ]
  },
  {
   "cell_type": "code",
   "execution_count": 164,
   "id": "4ee7223b-caf2-4b18-8cc5-6d27200605f2",
   "metadata": {},
   "outputs": [],
   "source": [
    "from scipy.stats import wilcoxon\n",
    "\n",
    "def test_consumer_factor(model, dataset, consumer_factor):\n",
    "    before_cf = load_reclists('consumer', model, dataset, exposure_model='Linear', consumer_factor=0)\n",
    "    after_cf = load_reclists('consumer', model, dataset, exposure_model='Linear', consumer_factor=consumer_factor)\n",
    "\n",
    "    before_prec = precisionk_samples(before_cf)\n",
    "    after_prec = precisionk_samples(after_cf)\n",
    "    before_longtail = longtail_exposure_samples(before_cf)\n",
    "    after_longtail = longtail_exposure_samples(after_cf)\n",
    "\n",
    "    prec_test = wilcoxon(before_prec, after_prec)\n",
    "    longtail_test = wilcoxon(before_longtail, after_longtail)\n",
    "\n",
    "    print(f\"Avg. precision@k: {before_prec.mean():.4f} vs {after_prec.mean():.4f}\")\n",
    "    print(f\"Precision: H={prec_test.statistic:.3f}, p={prec_test.pvalue:.3f}\")\n",
    "    print(is_significant(prec_test.pvalue))\n",
    "    print(\"\")\n",
    "    print(f\"Avg. longtail exposure: {before_longtail.mean():.4f} vs {after_longtail.mean():.4f}\")\n",
    "    print(f\"Long-tail exposure: H={longtail_test.statistic:.3f}, p={longtail_test.pvalue:.3f}\")\n",
    "    print(is_significant(longtail_test.pvalue))"
   ]
  },
  {
   "cell_type": "markdown",
   "id": "d54ae4bd-2291-4d61-84d0-6b2371ca6d34",
   "metadata": {},
   "source": [
    "### Yelp"
   ]
  },
  {
   "cell_type": "markdown",
   "id": "cf03d9b8-1863-4e9c-b02e-1763a8a1857a",
   "metadata": {},
   "source": [
    "**consumer factor weight = 0.1**\n",
    "\n",
    "ideally positive impact"
   ]
  },
  {
   "cell_type": "code",
   "execution_count": 151,
   "id": "64ef7f2f-60e7-404e-8d94-e0de3bef5ef7",
   "metadata": {},
   "outputs": [
    {
     "name": "stdout",
     "output_type": "stream",
     "text": [
      "Avg. precision@k: 0.0225 vs 0.0242\n",
      "Precision: H=18485.000, p=0.000\n",
      "p < 0.05, reject the null hypothesis\n",
      "\n",
      "Avg. longtail exposure: 1.7010 vs 0.8583\n",
      "Long-tail exposure: H=337879.500, p=0.000\n",
      "p < 0.05, reject the null hypothesis\n"
     ]
    }
   ],
   "source": [
    "test_consumer_factor('GeoSoCa', 'Yelp', 0.1)"
   ]
  },
  {
   "cell_type": "code",
   "execution_count": 152,
   "id": "79e4c5e7-9278-4b38-94bc-4b1e61b4f9bd",
   "metadata": {},
   "outputs": [
    {
     "name": "stdout",
     "output_type": "stream",
     "text": [
      "Avg. precision@k: 0.0230 vs 0.0235\n",
      "Precision: H=6337.000, p=0.005\n",
      "p < 0.05, reject the null hypothesis\n",
      "\n",
      "Avg. longtail exposure: 1.5290 vs 1.1384\n",
      "Long-tail exposure: H=245499.500, p=0.000\n",
      "p < 0.05, reject the null hypothesis\n"
     ]
    }
   ],
   "source": [
    "test_consumer_factor('LORE', 'Yelp', 0.1)"
   ]
  },
  {
   "cell_type": "code",
   "execution_count": 153,
   "id": "4fac24bb-3d46-44d3-8dc7-d59851afea8f",
   "metadata": {},
   "outputs": [
    {
     "name": "stdout",
     "output_type": "stream",
     "text": [
      "Avg. precision@k: 0.0297 vs 0.0295\n",
      "Precision: H=294.000, p=0.133\n",
      "p >= 0.05, don't reject the null hypothesis\n",
      "\n",
      "Avg. longtail exposure: 0.0077 vs 0.0058\n",
      "Long-tail exposure: H=27.000, p=0.000\n",
      "p < 0.05, reject the null hypothesis\n"
     ]
    }
   ],
   "source": [
    "test_consumer_factor('USG', 'Yelp', 0.1)"
   ]
  },
  {
   "cell_type": "markdown",
   "id": "11ea4ac2-0b52-4ce2-a2bd-db95bf2d03c1",
   "metadata": {},
   "source": [
    "### Gowalla"
   ]
  },
  {
   "cell_type": "code",
   "execution_count": 165,
   "id": "39146269-8144-4932-8af7-0f92d2e184cd",
   "metadata": {},
   "outputs": [
    {
     "name": "stdout",
     "output_type": "stream",
     "text": [
      "Avg. precision@k: 0.0381 vs 0.0422\n",
      "Precision: H=28869.500, p=0.000\n",
      "p < 0.05, reject the null hypothesis\n",
      "\n",
      "Avg. longtail exposure: 0.7990 vs 0.4862\n",
      "Long-tail exposure: H=1925681.500, p=0.000\n",
      "p < 0.05, reject the null hypothesis\n"
     ]
    }
   ],
   "source": [
    "test_consumer_factor('GeoSoCa', 'Gowalla', 0.1)"
   ]
  },
  {
   "cell_type": "code",
   "execution_count": 166,
   "id": "bc437845-557b-47b4-8391-081eb204bea5",
   "metadata": {},
   "outputs": [
    {
     "name": "stdout",
     "output_type": "stream",
     "text": [
      "Avg. precision@k: 0.0482 vs 0.0492\n",
      "Precision: H=14675.500, p=0.000\n",
      "p < 0.05, reject the null hypothesis\n",
      "\n",
      "Avg. longtail exposure: 0.7354 vs 0.5957\n",
      "Long-tail exposure: H=407984.000, p=0.000\n",
      "p < 0.05, reject the null hypothesis\n"
     ]
    }
   ],
   "source": [
    "test_consumer_factor('LORE', 'Gowalla', 0.1)"
   ]
  },
  {
   "cell_type": "code",
   "execution_count": 167,
   "id": "4ba0a267-78da-4a88-9c95-82a57d40d12f",
   "metadata": {},
   "outputs": [
    {
     "name": "stdout",
     "output_type": "stream",
     "text": [
      "Avg. precision@k: 0.0514 vs 0.0514\n",
      "Precision: H=4106.000, p=0.955\n",
      "p >= 0.05, don't reject the null hypothesis\n",
      "\n",
      "Avg. longtail exposure: 0.0766 vs 0.0677\n",
      "Long-tail exposure: H=1908.000, p=0.000\n",
      "p < 0.05, reject the null hypothesis\n"
     ]
    }
   ],
   "source": [
    "test_consumer_factor('USG', 'Gowalla', 0.1)"
   ]
  },
  {
   "cell_type": "markdown",
   "id": "df08b6d9-1f7b-4b0c-80d9-6800cccadbc3",
   "metadata": {},
   "source": [
    "## 7. Can a tradeoff achieve significant improvements in both?"
   ]
  },
  {
   "cell_type": "code",
   "execution_count": 164,
   "id": "fc2a6aef-8c4d-4099-823c-fbdd19e1923e",
   "metadata": {},
   "outputs": [],
   "source": [
    "from scipy.stats import wilcoxon\n",
    "\n",
    "def test_consumer_factor(model, dataset, consumer_factor):\n",
    "    before_cf = load_reclists('consumer', model, dataset, exposure_model='Linear', consumer_factor=0)\n",
    "    after_cf = load_reclists('consumer', model, dataset, exposure_model='Linear', consumer_factor=consumer_factor)\n",
    "\n",
    "    before_prec = precisionk_samples(before_cf)\n",
    "    after_prec = precisionk_samples(after_cf)\n",
    "    before_longtail = longtail_exposure_samples(before_cf)\n",
    "    after_longtail = longtail_exposure_samples(after_cf)\n",
    "\n",
    "    prec_test = wilcoxon(before_prec, after_prec)\n",
    "    longtail_test = wilcoxon(before_longtail, after_longtail)\n",
    "\n",
    "    print(f\"Avg. precision@k: {before_prec.mean():.4f} vs {after_prec.mean():.4f}\")\n",
    "    print(f\"Precision: H={prec_test.statistic:.3f}, p={prec_test.pvalue:.3f}\")\n",
    "    print(is_significant(prec_test.pvalue))\n",
    "    print(\"\")\n",
    "    print(f\"Avg. longtail exposure: {before_longtail.mean():.4f} vs {after_longtail.mean():.4f}\")\n",
    "    print(f\"Long-tail exposure: H={longtail_test.statistic:.3f}, p={longtail_test.pvalue:.3f}\")\n",
    "    print(is_significant(longtail_test.pvalue))"
   ]
  }
 ],
 "metadata": {
  "kernelspec": {
   "display_name": "Python 3 (ipykernel)",
   "language": "python",
   "name": "python3"
  },
  "language_info": {
   "codemirror_mode": {
    "name": "ipython",
    "version": 3
   },
   "file_extension": ".py",
   "mimetype": "text/x-python",
   "name": "python",
   "nbconvert_exporter": "python",
   "pygments_lexer": "ipython3",
   "version": "3.10.12"
  }
 },
 "nbformat": 4,
 "nbformat_minor": 5
}

{
 "cells": [
  {
   "cell_type": "markdown",
   "id": "9d569e6f-49e7-4360-aea6-91abb65cfa7a",
   "metadata": {},
   "source": [
    "# Provider Fairness Methods"
   ]
  },
  {
   "cell_type": "code",
   "execution_count": 1,
   "id": "6c45f313-6fbf-4168-9410-b8f7152425a0",
   "metadata": {},
   "outputs": [],
   "source": [
    "import pandas as pd"
   ]
  },
  {
   "cell_type": "markdown",
   "id": "657ff3d0-e0c5-426a-aeab-8a4824a42e29",
   "metadata": {},
   "source": [
    "## Approach 1: re-ranking results based on item exposure\n",
    "\n",
    "Given some list of recommended POIs $P_i = [p_1, p_2, ..., p_n]$ for some user $i$ and some monotonically decreasing relevance score $R_i = [r_1, r_2, ..., r_n]$ used for the ranking, the idea was to scale this ranking based on the exposure of the POI in the generated recommendation lists.\n",
    "\n",
    "Let $e_j$ be the number of times a POI $j$ appears in all the lists across all tested users. Across all the POIs that appear in the lists, we can calculate the mean and standard deviation $\\mu_e$ and $\\sigma_e$ to standardize the relevance scores. Below is a sample formula that re-scales the relevance score of a POI:\n",
    "\n",
    "$$r'_j = r_j \\cdot e^\\left( -1 \\cdot \\frac{e_j - \\mu_e}{\\sigma_e} \\cdot \\frac{1}{\\alpha} \\right)$$\n",
    "\n",
    "The idea is that a POI with an average exposure (i.e. 0 when standardized) will have the same relevance score ($e^0 = 1$), a POI with more exposure (i.e. positive when standardized) will have a lower scaled relevance score ($x < 0 \\rightarrow 0 < e^x < 1$), and vice-versa. A scaling factor $\\alpha$ (10 in our case) was divided to try and reduce the effect of the scaling so as not to overpower the initial scores."
   ]
  },
  {
   "cell_type": "markdown",
   "id": "769e1f56-c6d5-46e4-91aa-b62855d7911c",
   "metadata": {},
   "source": [
    "## Approach 2: using a power-law model of the POI popularity as a context fusion factor\n",
    "\n",
    "Because the CAPRI framework allows for modular integration of different contextual factors, we can in theory include the POI's popularity as a \"context\". The popularity of a POI based on checkin counts can be modeled as a power-law or Pareto distribution. Majority of POIs have barely any checkins, while there are a few who have a large number of checkins.\n",
    "\n",
    "We can design a model that takes in a POI's number of checkins in the training set, and outputs a score that is inversely proportional to their popularity. That way, during the fusion of the scores, their unpopularity is compensated for, and they are given a chance to appear in recommended lists. Given a list of POIs $P$ and their check-in popularities $C$, we can compute a list of scores as such:\n",
    "\n",
    "$$I = \\alpha \\cdot C^\\beta$$\n",
    "\n",
    "Here, the parameters $\\alpha$ and $\\beta$ are learned from the training set using a log-linear regression. In our case, we use ridge regression with an L2 regularization factor of 10. This prevents the scores from exploding in value too much, especially on POIs with single-digit checkin counts, where the compensating score is the largest."
   ]
  },
  {
   "cell_type": "markdown",
   "id": "b561c3f1-4647-4953-9822-7c235493d9c4",
   "metadata": {},
   "source": [
    "## Results"
   ]
  },
  {
   "cell_type": "code",
   "execution_count": 5,
   "id": "385443c2-6552-451d-9420-46571663a879",
   "metadata": {},
   "outputs": [
    {
     "data": {
      "text/html": [
       "<div>\n",
       "<style scoped>\n",
       "    .dataframe tbody tr th:only-of-type {\n",
       "        vertical-align: middle;\n",
       "    }\n",
       "\n",
       "    .dataframe tbody tr th {\n",
       "        vertical-align: top;\n",
       "    }\n",
       "\n",
       "    .dataframe thead th {\n",
       "        text-align: right;\n",
       "    }\n",
       "</style>\n",
       "<table border=\"1\" class=\"dataframe\">\n",
       "  <thead>\n",
       "    <tr style=\"text-align: right;\">\n",
       "      <th></th>\n",
       "      <th>precision</th>\n",
       "      <th>recall</th>\n",
       "      <th>ndcg</th>\n",
       "      <th>map</th>\n",
       "      <th>gce_users</th>\n",
       "      <th>gce_items</th>\n",
       "      <th>hit_ratio</th>\n",
       "    </tr>\n",
       "  </thead>\n",
       "  <tbody>\n",
       "    <tr>\n",
       "      <th>USG_TopK</th>\n",
       "      <td>0.02968</td>\n",
       "      <td>0.04478</td>\n",
       "      <td>0.03981</td>\n",
       "      <td>0.01991</td>\n",
       "      <td>-0.00064</td>\n",
       "      <td>-235.56310</td>\n",
       "      <td>0.23616</td>\n",
       "    </tr>\n",
       "    <tr>\n",
       "      <th>USG_ItemExposure</th>\n",
       "      <td>0.02615</td>\n",
       "      <td>0.03885</td>\n",
       "      <td>0.03249</td>\n",
       "      <td>0.01531</td>\n",
       "      <td>-0.05564</td>\n",
       "      <td>-143.41169</td>\n",
       "      <td>0.24275</td>\n",
       "    </tr>\n",
       "    <tr>\n",
       "      <th>USGI_TopK</th>\n",
       "      <td>0.02914</td>\n",
       "      <td>0.04354</td>\n",
       "      <td>0.03945</td>\n",
       "      <td>0.01984</td>\n",
       "      <td>-0.00100</td>\n",
       "      <td>-5.93957</td>\n",
       "      <td>0.23196</td>\n",
       "    </tr>\n",
       "  </tbody>\n",
       "</table>\n",
       "</div>"
      ],
      "text/plain": [
       "                  precision   recall     ndcg      map  gce_users  gce_items  \\\n",
       "USG_TopK            0.02968  0.04478  0.03981  0.01991   -0.00064 -235.56310   \n",
       "USG_ItemExposure    0.02615  0.03885  0.03249  0.01531   -0.05564 -143.41169   \n",
       "USGI_TopK           0.02914  0.04354  0.03945  0.01984   -0.00100   -5.93957   \n",
       "\n",
       "                  hit_ratio  \n",
       "USG_TopK            0.23616  \n",
       "USG_ItemExposure    0.24275  \n",
       "USGI_TopK           0.23196  "
      ]
     },
     "execution_count": 5,
     "metadata": {},
     "output_type": "execute_result"
    }
   ],
   "source": [
    "def get_results(modelName, reranker):\n",
    "    output = pd.read_csv(f'../Outputs/Eval_{modelName}_{reranker}_Yelp_Sum_7135user_top10_limit15.csv')\n",
    "    output.index = [f'{modelName}_{reranker}']\n",
    "    return output\n",
    "\n",
    "_dfs = [\n",
    "    get_results(x, y)\n",
    "    for (x, y) in [\n",
    "        ('USG', 'TopK'),\n",
    "        ('USG', 'ItemExposure'),\n",
    "        ('USGI', 'TopK')\n",
    "    ]\n",
    "]\n",
    "\n",
    "df = pd.concat(_dfs, axis=0)\n",
    "df"
   ]
  },
  {
   "cell_type": "markdown",
   "id": "c337d956-2270-45c7-a9d4-9b3f6fd2024a",
   "metadata": {},
   "source": [
    "```\n",
    "USGI_TopK\n",
    "[[ User precision ratios ]]\n",
    "                 rg_u  rg_fair\n",
    "repeat_user\n",
    "False        0.477633      0.5\n",
    "True         0.522367      0.5\n",
    "[[ Item coverage ratios ]]\n",
    "                rg_i   rg_fair\n",
    "short_head\n",
    "False       0.049485  0.796982\n",
    "True        0.950515  0.203018\n",
    "\n",
    "\n",
    "USG_TopK\n",
    "[[ User precision ratios ]]\n",
    "                 rg_u  rg_fair\n",
    "repeat_user\n",
    "False        0.482059      0.5\n",
    "True         0.517941      0.5\n",
    "[[ Item coverage ratios ]]\n",
    "                rg_i   rg_fair\n",
    "short_head\n",
    "False       0.001345  0.796982\n",
    "True        0.998655  0.203018\n",
    "\n",
    "\n",
    "USG_ItemExposure\n",
    "[[ User precision ratios ]]\n",
    "                 rg_u  rg_fair\n",
    "repeat_user\n",
    "False        0.341778      0.5\n",
    "True         0.658222      0.5\n",
    "[[ Item coverage ratios ]]\n",
    "                rg_i   rg_fair\n",
    "short_head\n",
    "False       0.002207  0.796982\n",
    "True        0.997793  0.203018\n",
    "```"
   ]
  },
  {
   "cell_type": "code",
   "execution_count": null,
   "id": "7c4d7059-f146-4e95-998b-9ca935c18fee",
   "metadata": {},
   "outputs": [],
   "source": []
  }
 ],
 "metadata": {
  "kernelspec": {
   "display_name": "Python 3 (ipykernel)",
   "language": "python",
   "name": "python3"
  },
  "language_info": {
   "codemirror_mode": {
    "name": "ipython",
    "version": 3
   },
   "file_extension": ".py",
   "mimetype": "text/x-python",
   "name": "python",
   "nbconvert_exporter": "python",
   "pygments_lexer": "ipython3",
   "version": "3.10.12"
  }
 },
 "nbformat": 4,
 "nbformat_minor": 5
}
